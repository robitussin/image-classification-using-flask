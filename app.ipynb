{
 "cells": [
  {
   "cell_type": "code",
   "execution_count": null,
   "metadata": {},
   "outputs": [],
   "source": [
    "import sys\n",
    "import os\n",
    "import glob\n",
    "import re\n",
    "import numpy as np\n",
    "import keras\n",
    "\n",
    "# Keras\n",
    "from keras.applications.imagenet_utils import preprocess_input, decode_predictions\n",
    "from keras.models import load_model\n",
    "from keras.preprocessing import image\n",
    "\n",
    "# Flask utils\n",
    "from flask import Flask, redirect, url_for, request, render_template\n",
    "from werkzeug.utils import secure_filename\n",
    "from gevent.pywsgi import WSGIServer"
   ]
  },
  {
   "cell_type": "code",
   "execution_count": null,
   "metadata": {},
   "outputs": [],
   "source": [
    "# Define a flask app\n",
    "app = Flask(__name__)"
   ]
  },
  {
   "cell_type": "code",
   "execution_count": null,
   "metadata": {},
   "outputs": [],
   "source": [
    "# You can also use pretrained model from Keras\n",
    "# Check https://keras.io/applications/\n",
    "\n",
    "from keras.applications.resnet50 import ResNet50\n",
    "model = ResNet50(weights='imagenet')\n",
    "model.save('models/model_resnet.h5')"
   ]
  },
  {
   "cell_type": "code",
   "execution_count": null,
   "metadata": {},
   "outputs": [],
   "source": [
    "# Model saved with Keras model.save()\n",
    "MODEL_PATH = 'models/model_resnet.h5'\n",
    "\n",
    "# Load your trained model\n",
    "model = load_model(MODEL_PATH)\n",
    "# Necessary\n",
    "model.make_predict_function()         \n",
    "print('Model loaded. Start serving...')"
   ]
  },
  {
   "cell_type": "code",
   "execution_count": null,
   "metadata": {},
   "outputs": [],
   "source": [
    "def model_predict(img_path, model):\n",
    "    img = image.load_img(img_path, target_size=(224, 224))\n",
    "\n",
    "    # Preprocessing the image\n",
    "    x = image.img_to_array(img)\n",
    "    # x = np.true_divide(x, 255)\n",
    "    x = np.expand_dims(x, axis=0)\n",
    "\n",
    "    # Be careful how your trained model deals with the input\n",
    "    # otherwise, it won't make correct prediction!\n",
    "    x = preprocess_input(x, mode='caffe')\n",
    "\n",
    "    preds = model.predict(x)\n",
    "    return preds"
   ]
  },
  {
   "cell_type": "code",
   "execution_count": null,
   "metadata": {},
   "outputs": [],
   "source": [
    "@app.route('/', methods=['GET'])\n",
    "def index():\n",
    "    # Main page\n",
    "    return render_template('index.html')"
   ]
  },
  {
   "cell_type": "code",
   "execution_count": null,
   "metadata": {},
   "outputs": [],
   "source": [
    "@app.route('/predict', methods=['GET', 'POST'])\n",
    "def upload():\n",
    "    if request.method == 'POST':\n",
    "        # Get the file from post request\n",
    "        f = request.files['file']\n",
    "\n",
    "        # Save the file to ./uploads\n",
    "        # Use os.path.abspath('') for .ipynb files\n",
    "        basepath = os.path.abspath('')\n",
    "\n",
    "        # Use os.path.dirname('') for .py files\n",
    "        # basepath = os.path.dirname(__file__)\n",
    "        \n",
    "        file_path = os.path.join(\n",
    "            basepath, 'uploads', secure_filename(f.filename))\n",
    "        f.save(file_path)\n",
    "\n",
    "        # Make prediction\n",
    "        preds = model_predict(file_path, model)\n",
    "\n",
    "        # Process your result for human\n",
    "        pred_class = preds.argmax(axis=-1)            # Simple argmax\n",
    "        pred_class = decode_predictions(preds, top=1)   # ImageNet Decode\n",
    "        result = str(pred_class[0][0][1])               # Convert to string\n",
    "        return result\n",
    "    return None"
   ]
  },
  {
   "cell_type": "code",
   "execution_count": null,
   "metadata": {},
   "outputs": [],
   "source": [
    "# Use this if you want to use a default address and port\n",
    "# app.run(debug=True)\n",
    "\n",
    "# Use this if you want to set your address and port\n",
    "app.run(host=os.getenv('IP', '0.0.0.0'), port=int(os.getenv('PORT', 4444)))"
   ]
  }
 ],
 "metadata": {
  "kernelspec": {
   "display_name": "Python 3",
   "language": "python",
   "name": "python3"
  },
  "language_info": {
   "codemirror_mode": {
    "name": "ipython",
    "version": 3
   },
   "file_extension": ".py",
   "mimetype": "text/x-python",
   "name": "python",
   "nbconvert_exporter": "python",
   "pygments_lexer": "ipython3",
   "version": "3.9.6"
  }
 },
 "nbformat": 4,
 "nbformat_minor": 2
}
